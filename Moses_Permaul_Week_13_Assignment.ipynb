{
 "cells": [
  {
   "cell_type": "markdown",
   "metadata": {},
   "source": [
    "# Moses Permaul - IS362 - Week 13 Assignment"
   ]
  },
  {
   "cell_type": "markdown",
   "metadata": {},
   "source": [
    "Mushrooms Dataset. A famous—if slightly moldy—dataset about mushrooms can be found in the UCI repository here: https://archive.ics.uci.edu/ml/datasets/Mushroom. The fact that this is such a well-known dataset in the data science community has made it a good dataset to use for comparative benchmarking. For example, if someone was working to build a better decision tree algorithm (or other predictive classifier) to analyze categorical data, this dataset could be useful. In Project 4, we’ll use scikit-learn to answer the question, “Which other attribute or attributes are the best predictors of whether a particular mushroom is poisonous or edible?”\n",
    "\n",
    "**Your assignment is to:**\n",
    "1. First study the dataset and the associated description of the data (i.e. “data dictionary”). You may need to look around a bit, but it’s there!\n",
    "2. Create a pandas DataFrame with a subset of the columns in the dataset. You should include the column that indicates edible or poisonous, the column that includes odor, and at least one other column of your choosing.\n",
    "3. Add meaningful names for each column.\n",
    "4. Replace the codes used in the data with numeric values—for example, in the first “target” column, “e” might become 0 and “p” might become 1. This is because your downstream processing in Project 4 using scikit-learn requires that values be stored as numerics.\n",
    "5. Perform exploratory data analysis: show the distribution of data for each of the columns you selected, and show scatterplots for edible/poisonous vs. odor as well as the other column that you selected.\n",
    "6. Include some text describing your preliminary conclusions about whether either of the other columns could be helpful in predicting if a specific mushroom is edible or poisonous."
   ]
  },
  {
   "cell_type": "markdown",
   "metadata": {},
   "source": [
    "### 1. Studying the Dataset\n",
    "The dataset descriptipon can be found here: https://archive.ics.uci.edu/ml/machine-learning-databases/mushroom/agaricus-lepiota.names\n",
    "\n",
    "When reviewing the description, we can see that there are a total of 2 classes (edible=e and poisonous=p) and 22 attributes. Along with these, there are some generalized rules provided that can help accuratley determine if a mushroom is poisonous.\n",
    "\n",
    "The columns **\"edible\"**, **\"odor\"**, and **\"habitat\"** will be used. "
   ]
  },
  {
   "cell_type": "markdown",
   "metadata": {},
   "source": [
    "### 2/3 Creating a Pandas DataFrame Using the Dataset with Meaningful Names"
   ]
  },
  {
   "cell_type": "code",
   "execution_count": 1,
   "metadata": {},
   "outputs": [
    {
     "data": {
      "text/html": [
       "<div>\n",
       "<style scoped>\n",
       "    .dataframe tbody tr th:only-of-type {\n",
       "        vertical-align: middle;\n",
       "    }\n",
       "\n",
       "    .dataframe tbody tr th {\n",
       "        vertical-align: top;\n",
       "    }\n",
       "\n",
       "    .dataframe thead th {\n",
       "        text-align: right;\n",
       "    }\n",
       "</style>\n",
       "<table border=\"1\" class=\"dataframe\">\n",
       "  <thead>\n",
       "    <tr style=\"text-align: right;\">\n",
       "      <th></th>\n",
       "      <th>Edible</th>\n",
       "      <th>Odor</th>\n",
       "      <th>Habitat</th>\n",
       "    </tr>\n",
       "  </thead>\n",
       "  <tbody>\n",
       "    <tr>\n",
       "      <th>0</th>\n",
       "      <td>p</td>\n",
       "      <td>p</td>\n",
       "      <td>u</td>\n",
       "    </tr>\n",
       "    <tr>\n",
       "      <th>1</th>\n",
       "      <td>e</td>\n",
       "      <td>a</td>\n",
       "      <td>g</td>\n",
       "    </tr>\n",
       "    <tr>\n",
       "      <th>2</th>\n",
       "      <td>e</td>\n",
       "      <td>l</td>\n",
       "      <td>m</td>\n",
       "    </tr>\n",
       "    <tr>\n",
       "      <th>3</th>\n",
       "      <td>p</td>\n",
       "      <td>p</td>\n",
       "      <td>u</td>\n",
       "    </tr>\n",
       "    <tr>\n",
       "      <th>4</th>\n",
       "      <td>e</td>\n",
       "      <td>n</td>\n",
       "      <td>g</td>\n",
       "    </tr>\n",
       "  </tbody>\n",
       "</table>\n",
       "</div>"
      ],
      "text/plain": [
       "  Edible Odor Habitat\n",
       "0      p    p       u\n",
       "1      e    a       g\n",
       "2      e    l       m\n",
       "3      p    p       u\n",
       "4      e    n       g"
      ]
     },
     "execution_count": 1,
     "metadata": {},
     "output_type": "execute_result"
    }
   ],
   "source": [
    "# standard imports for matplotlib, numpy, pandas, and seaborn\n",
    "from matplotlib import pyplot as plt\n",
    "import numpy as np\n",
    "import pandas as pd\n",
    "\n",
    "# enable inline plotting\n",
    "%matplotlib inline\n",
    "\n",
    "# url containing mushroom dataset\n",
    "url = 'https://archive.ics.uci.edu/ml/machine-learning-databases/mushroom/agaricus-lepiota.data'\n",
    "\n",
    "# read data to DataFrame using meaningful column names\n",
    "df = pd.read_csv(url, usecols=[0,5,22], header=None, names=['Edible', 'Odor','Habitat'])\n",
    "\n",
    "# view first 5 rows\n",
    "df.head()"
   ]
  },
  {
   "cell_type": "markdown",
   "metadata": {},
   "source": [
    "### 4. Updating DataFrame to Use Numeric Values\n",
    "For the attributes that we will be using, the dataset desciption shows that the following are the possible values:\n",
    "\n",
    "    edible:  edible=e, poisonous=p\n",
    "    odor:    almond=a, anise=l, creosote=c, fishy=y, foul=f, musty=m, none=n, pungent=p, spicy=s\n",
    "    habitat: grasses=g, leaves=l, meadows=m, paths=p, urban=u, waste=w, woods=d\n",
    "\n",
    "We will convert these values to numeric ones using **replace()**"
   ]
  },
  {
   "cell_type": "code",
   "execution_count": 2,
   "metadata": {},
   "outputs": [
    {
     "data": {
      "text/html": [
       "<div>\n",
       "<style scoped>\n",
       "    .dataframe tbody tr th:only-of-type {\n",
       "        vertical-align: middle;\n",
       "    }\n",
       "\n",
       "    .dataframe tbody tr th {\n",
       "        vertical-align: top;\n",
       "    }\n",
       "\n",
       "    .dataframe thead th {\n",
       "        text-align: right;\n",
       "    }\n",
       "</style>\n",
       "<table border=\"1\" class=\"dataframe\">\n",
       "  <thead>\n",
       "    <tr style=\"text-align: right;\">\n",
       "      <th></th>\n",
       "      <th>Edible</th>\n",
       "      <th>Odor</th>\n",
       "      <th>Habitat</th>\n",
       "    </tr>\n",
       "  </thead>\n",
       "  <tbody>\n",
       "    <tr>\n",
       "      <th>0</th>\n",
       "      <td>1</td>\n",
       "      <td>7</td>\n",
       "      <td>4</td>\n",
       "    </tr>\n",
       "    <tr>\n",
       "      <th>1</th>\n",
       "      <td>0</td>\n",
       "      <td>0</td>\n",
       "      <td>0</td>\n",
       "    </tr>\n",
       "    <tr>\n",
       "      <th>2</th>\n",
       "      <td>0</td>\n",
       "      <td>1</td>\n",
       "      <td>2</td>\n",
       "    </tr>\n",
       "    <tr>\n",
       "      <th>3</th>\n",
       "      <td>1</td>\n",
       "      <td>7</td>\n",
       "      <td>4</td>\n",
       "    </tr>\n",
       "    <tr>\n",
       "      <th>4</th>\n",
       "      <td>0</td>\n",
       "      <td>6</td>\n",
       "      <td>0</td>\n",
       "    </tr>\n",
       "  </tbody>\n",
       "</table>\n",
       "</div>"
      ],
      "text/plain": [
       "   Edible  Odor  Habitat\n",
       "0       1     7        4\n",
       "1       0     0        0\n",
       "2       0     1        2\n",
       "3       1     7        4\n",
       "4       0     6        0"
      ]
     },
     "execution_count": 2,
     "metadata": {},
     "output_type": "execute_result"
    }
   ],
   "source": [
    "# copy dataframe to preserve original\n",
    "df_mushroom = df.copy()\n",
    "\n",
    "# update dataframe to use numeric values\n",
    "df_mushroom.replace(to_replace={'Edible':{'e': 0, 'p': 1}}, inplace = True)\n",
    "df_mushroom.replace(to_replace={'Odor':{'a':0, 'l':1, 'c':2, 'y':3, 'f':4, 'm':5, 'n':6, 'p':7, 's':8}}, inplace = True)\n",
    "df_mushroom.replace(to_replace={'Habitat':{'g':0, 'l':1, 'm':2, 'p':3, 'u':4, 'w':5, 'd':6}}, inplace = True)\n",
    "\n",
    "# view first 5 rows\n",
    "df_mushroom.head()"
   ]
  },
  {
   "cell_type": "markdown",
   "metadata": {},
   "source": [
    "### 5. Exploratory Data Analysis\n",
    "The first thing we will look at is the distribution of data for each column."
   ]
  },
  {
   "cell_type": "code",
   "execution_count": 3,
   "metadata": {},
   "outputs": [
    {
     "data": {
      "text/plain": [
       "0    4208\n",
       "1    3916\n",
       "Name: Edible, dtype: int64"
      ]
     },
     "execution_count": 3,
     "metadata": {},
     "output_type": "execute_result"
    }
   ],
   "source": [
    "# count edible values\n",
    "df_mushroom.Edible.value_counts()"
   ]
  },
  {
   "cell_type": "markdown",
   "metadata": {},
   "source": [
    "Looking at the **\"Edible\"** column, we can see that 4208 are listed as being edible and 3916 is listed as being poisonous."
   ]
  },
  {
   "cell_type": "code",
   "execution_count": 4,
   "metadata": {},
   "outputs": [
    {
     "data": {
      "text/plain": [
       "6    3528\n",
       "4    2160\n",
       "3     576\n",
       "8     576\n",
       "1     400\n",
       "0     400\n",
       "7     256\n",
       "2     192\n",
       "5      36\n",
       "Name: Odor, dtype: int64"
      ]
     },
     "execution_count": 4,
     "metadata": {},
     "output_type": "execute_result"
    }
   ],
   "source": [
    "# count odor values\n",
    "df_mushroom.Odor.value_counts()"
   ]
  },
  {
   "cell_type": "markdown",
   "metadata": {},
   "source": [
    "Looking at the **\"Odor\"** column, we can see that the odor corresponding to 6 (\"none\") has the highest number. The next highest odor is 4 (\"foul\"). The lowest is 5 (\"musty\").\n",
    "\n",
    "**Reminder of Mapping:**\n",
    "0. almond=a\n",
    "1. anise=l\n",
    "2. creosote=c\n",
    "3. fishy=y\n",
    "4. foul=f\n",
    "5. musty=m\n",
    "6. none=n\n",
    "7. pungent=p\n",
    "8. spicy=s\n"
   ]
  },
  {
   "cell_type": "code",
   "execution_count": 5,
   "metadata": {},
   "outputs": [
    {
     "data": {
      "text/plain": [
       "6    3148\n",
       "0    2148\n",
       "3    1144\n",
       "1     832\n",
       "4     368\n",
       "2     292\n",
       "5     192\n",
       "Name: Habitat, dtype: int64"
      ]
     },
     "execution_count": 5,
     "metadata": {},
     "output_type": "execute_result"
    }
   ],
   "source": [
    "# count habitat values\n",
    "df_mushroom.Habitat.value_counts()"
   ]
  },
  {
   "cell_type": "markdown",
   "metadata": {},
   "source": [
    "Looking at the **\"Habitat\"** column, we can see that the one corresponding to 6 (\"woods\") has the highest number. The next highest is 0 (\"grasses\"). The lowest is 5 (\"waste\").\n",
    "\n",
    "**Reminder of Mapping:**\n",
    "0. grasses=g\n",
    "1. leaves=l\n",
    "2. meadows=m\n",
    "3. paths=p\n",
    "4. urban=u\n",
    "5. waste=w\n",
    "6. woods=d\n"
   ]
  },
  {
   "cell_type": "markdown",
   "metadata": {},
   "source": [
    "### Scatterplots\n",
    "The below scatterplot shows the relationship between class edible and attribute odor."
   ]
  },
  {
   "cell_type": "code",
   "execution_count": 6,
   "metadata": {},
   "outputs": [
    {
     "data": {
      "image/png": "[encoded data removed]",
      "text/plain": [
       "<Figure size 432x288 with 1 Axes>"
      ]
     },
     "metadata": {
      "needs_background": "light"
     },
     "output_type": "display_data"
    }
   ],
   "source": [
    "# plot scatter using dataframe\n",
    "plt.scatter(df_mushroom.Edible, df_mushroom.Odor)\n",
    "\n",
    "# set chart labels and title\n",
    "plt.xlabel('Edible/Poisonous')\n",
    "plt.ylabel('Odor')\n",
    "plt.title('Edible/Poisonous vs Odor')\n",
    "\n",
    "# display plot\n",
    "plt.show()"
   ]
  },
  {
   "cell_type": "markdown",
   "metadata": {},
   "source": [
    "The below scatterplot shows the relationship between class edible and attribute habitat."
   ]
  },
  {
   "cell_type": "code",
   "execution_count": 7,
   "metadata": {},
   "outputs": [
    {
     "data": {
      "image/png": "[encoded data removed]",
      "text/plain": [
       "<Figure size 432x288 with 1 Axes>"
      ]
     },
     "metadata": {
      "needs_background": "light"
     },
     "output_type": "display_data"
    }
   ],
   "source": [
    "# plot scatter using dataframe\n",
    "plt.scatter(df_mushroom.Edible, df_mushroom.Habitat)\n",
    "\n",
    "# set chart labels and title\n",
    "plt.xlabel('Edible/Poisonous')\n",
    "plt.ylabel('Habitat')\n",
    "plt.title('Edible/Poisonous vs Habitat')\n",
    "\n",
    "# display plot\n",
    "plt.show()"
   ]
  },
  {
   "cell_type": "markdown",
   "metadata": {},
   "source": [
    "### 6. Conclusion"
   ]
  },
  {
   "cell_type": "markdown",
   "metadata": {},
   "source": [
    "Looking at our scatterplots generated from the data, we can conclude that **\"Odor\" is a good indicator** on whether a mushroom is edible or not. According to our data, **a mushroom that has a almond or anise odor should be safe to eat**. Even though we have \"none\" listed with some edible mushrooms, there is some overlap where some poisonous ones don't have an odor. Due to this, **mushrooms with no odor is not a good enough indicator**.\n",
    "\n",
    "When it comes to habitats, there is a lot of overlap, so it isn't a good choice when looking at the relationship between habitat and edible/poisonous. We can see that if the mushrooms's habitat is \"waste\", then it's likely to be edible. However all other habitats share both edible and poisonous mushrooms."
   ]
  },
  {
   "cell_type": "code",
   "execution_count": null,
   "metadata": {},
   "outputs": [],
   "source": []
  }
 ],
 "metadata": {
  "kernelspec": {
   "display_name": "Python 3",
   "language": "python",
   "name": "python3"
  },
  "language_info": {
   "codemirror_mode": {
    "name": "ipython",
    "version": 3
   },
   "file_extension": ".py",
   "mimetype": "text/x-python",
   "name": "python",
   "nbconvert_exporter": "python",
   "pygments_lexer": "ipython3",
   "version": "3.8.3"
  }
 },
 "nbformat": 4,
 "nbformat_minor": 4
}
